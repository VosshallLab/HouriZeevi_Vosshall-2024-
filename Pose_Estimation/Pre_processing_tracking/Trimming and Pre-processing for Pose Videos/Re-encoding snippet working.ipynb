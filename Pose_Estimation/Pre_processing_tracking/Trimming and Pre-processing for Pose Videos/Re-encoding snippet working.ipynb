{
 "cells": [
  {
   "cell_type": "code",
   "execution_count": null,
   "id": "f946701a",
   "metadata": {
    "vscode": {
     "languageId": "plaintext"
    }
   },
   "outputs": [],
   "source": [
    "import os\n",
    "import subprocess\n",
    "\n",
    "input_directory = r\"H:\\Trimmed_Just_Contact\"\n",
    "output_directory = r\"H:\\H:\\Trimmed_Just_Contact_Re-encoded\"\n",
    "ffmpeg_path = r\"H:\\ffmpeg\"\n",
    "\n",
    "# Create the output directory if it doesn't exist\n",
    "if not os.path.exists(output_directory):\n",
    "    os.makedirs(output_directory)\n",
    "\n",
    "# List all files in the input directory\n",
    "files = os.listdir(input_directory)\n",
    "\n",
    "# Iterate over the files and re-encode them\n",
    "for file in files:\n",
    "    if file.endswith(\".mp4\"):\n",
    "        input_file = os.path.join(input_directory, file)\n",
    "        output_file = os.path.join(output_directory, file)\n",
    "        command = [ffmpeg_path, \"-y\", \"-i\", input_file, \"-c:v\", \"libx264\", \"-pix_fmt\", \"yuv420p\", \"-preset\", \"superfast\", \"-crf\", \"23\", output_file]\n",
    "        \n",
    "        # Execute the FFmpeg command\n",
    "        subprocess.run(command)\n",
    "\n",
    "print(\"Video re-encoding complete!\")"
   ]
  }
 ],
 "metadata": {
  "kernelspec": {
   "display_name": "Python 3 (ipykernel)",
   "language": "python",
   "name": "python3"
  },
  "language_info": {
   "codemirror_mode": {
    "name": "ipython",
    "version": 3
   },
   "file_extension": ".py",
   "mimetype": "text/x-python",
   "name": "python",
   "nbconvert_exporter": "python",
   "pygments_lexer": "ipython3",
   "version": "3.9.13"
  }
 },
 "nbformat": 4,
 "nbformat_minor": 5
}
